{
 "cells": [
  {
   "cell_type": "markdown",
   "id": "4a408d3f",
   "metadata": {},
   "source": [
    "# 1. Import Libraries"
   ]
  },
  {
   "cell_type": "code",
   "execution_count": 1,
   "id": "b6cacce7",
   "metadata": {},
   "outputs": [],
   "source": [
    "import pandas as pd"
   ]
  },
  {
   "cell_type": "markdown",
   "id": "2bb7a592",
   "metadata": {},
   "source": [
    "# 2. Data Loading and Preparation Function"
   ]
  },
  {
   "cell_type": "code",
   "execution_count": 2,
   "id": "61e304aa",
   "metadata": {},
   "outputs": [],
   "source": [
    "def load_and_prepare_data(filepath):\n",
    "    \"\"\"\n",
    "    Loads the student performance dataset from a CSV file and selects the\n",
    "    relevant columns for the prediction model.\n",
    "\n",
    "    Args:\n",
    "        filepath (str): The path to the CSV file.\n",
    "\n",
    "    Returns:\n",
    "        pandas.DataFrame: A DataFrame with the selected columns.\n",
    "    \"\"\"\n",
    "    # Load the full dataset\n",
    "    df = pd.read_csv(filepath)\n",
    "\n",
    "    # Select only the columns needed for this project\n",
    "    df_model = df[['study_hours_per_day', 'attendance_percentage', 'exam_score']].copy()\n",
    "\n",
    "    return df_model"
   ]
  },
  {
   "cell_type": "markdown",
   "id": "d68c4333",
   "metadata": {},
   "source": [
    "# 3. Test the Function"
   ]
  },
  {
   "cell_type": "code",
   "execution_count": 3,
   "id": "d16a4d8f",
   "metadata": {},
   "outputs": [
    {
     "name": "stdout",
     "output_type": "stream",
     "text": [
      "Data loaded and prepared successfully!\n"
     ]
    },
    {
     "data": {
      "text/html": [
       "<div>\n",
       "<style scoped>\n",
       "    .dataframe tbody tr th:only-of-type {\n",
       "        vertical-align: middle;\n",
       "    }\n",
       "\n",
       "    .dataframe tbody tr th {\n",
       "        vertical-align: top;\n",
       "    }\n",
       "\n",
       "    .dataframe thead th {\n",
       "        text-align: right;\n",
       "    }\n",
       "</style>\n",
       "<table border=\"1\" class=\"dataframe\">\n",
       "  <thead>\n",
       "    <tr style=\"text-align: right;\">\n",
       "      <th></th>\n",
       "      <th>study_hours_per_day</th>\n",
       "      <th>attendance_percentage</th>\n",
       "      <th>exam_score</th>\n",
       "    </tr>\n",
       "  </thead>\n",
       "  <tbody>\n",
       "    <tr>\n",
       "      <th>0</th>\n",
       "      <td>0.0</td>\n",
       "      <td>85.0</td>\n",
       "      <td>56.2</td>\n",
       "    </tr>\n",
       "    <tr>\n",
       "      <th>1</th>\n",
       "      <td>6.9</td>\n",
       "      <td>97.3</td>\n",
       "      <td>100.0</td>\n",
       "    </tr>\n",
       "    <tr>\n",
       "      <th>2</th>\n",
       "      <td>1.4</td>\n",
       "      <td>94.8</td>\n",
       "      <td>34.3</td>\n",
       "    </tr>\n",
       "    <tr>\n",
       "      <th>3</th>\n",
       "      <td>1.0</td>\n",
       "      <td>71.0</td>\n",
       "      <td>26.8</td>\n",
       "    </tr>\n",
       "    <tr>\n",
       "      <th>4</th>\n",
       "      <td>5.0</td>\n",
       "      <td>90.9</td>\n",
       "      <td>66.4</td>\n",
       "    </tr>\n",
       "  </tbody>\n",
       "</table>\n",
       "</div>"
      ],
      "text/plain": [
       "   study_hours_per_day  attendance_percentage  exam_score\n",
       "0                  0.0                   85.0        56.2\n",
       "1                  6.9                   97.3       100.0\n",
       "2                  1.4                   94.8        34.3\n",
       "3                  1.0                   71.0        26.8\n",
       "4                  5.0                   90.9        66.4"
      ]
     },
     "execution_count": 3,
     "metadata": {},
     "output_type": "execute_result"
    }
   ],
   "source": [
    "# This block allows you to test the function directly within the notebook.\n",
    "# The '../' is used to go one directory up from 'src' to find the 'data' folder.\n",
    "data = load_and_prepare_data('../sample_dataset/student_performance_dataset.csv')\n",
    "print(\"Data loaded and prepared successfully!\")\n",
    "data.head()"
   ]
  },
  {
   "cell_type": "code",
   "execution_count": null,
   "id": "02e7808b",
   "metadata": {},
   "outputs": [],
   "source": []
  }
 ],
 "metadata": {
  "kernelspec": {
   "display_name": "Python 3",
   "language": "python",
   "name": "python3"
  },
  "language_info": {
   "codemirror_mode": {
    "name": "ipython",
    "version": 3
   },
   "file_extension": ".py",
   "mimetype": "text/x-python",
   "name": "python",
   "nbconvert_exporter": "python",
   "pygments_lexer": "ipython3",
   "version": "3.13.5"
  }
 },
 "nbformat": 4,
 "nbformat_minor": 5
}

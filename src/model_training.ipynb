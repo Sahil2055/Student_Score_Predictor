{
 "cells": [
  {
   "cell_type": "markdown",
   "id": "47effeef",
   "metadata": {},
   "source": [
    "# 1. Import Libraries and Other Notebooks"
   ]
  },
  {
   "cell_type": "code",
   "execution_count": 1,
   "id": "ed279c6f",
   "metadata": {},
   "outputs": [],
   "source": [
    "import numpy as np\n",
    "from sklearn.model_selection import train_test_split\n",
    "from sklearn.linear_model import LinearRegression\n",
    "from sklearn.metrics import r2_score, mean_absolute_error"
   ]
  },
  {
   "cell_type": "code",
   "execution_count": 5,
   "id": "5896d21c",
   "metadata": {},
   "outputs": [],
   "source": [
    "# You need to install import_ipynb first: pip install import_ipynb\n",
    "import import_ipynb"
   ]
  },
  {
   "cell_type": "code",
   "execution_count": 6,
   "id": "16edb8d3",
   "metadata": {},
   "outputs": [
    {
     "name": "stdout",
     "output_type": "stream",
     "text": [
      "Data loaded and prepared successfully!\n"
     ]
    }
   ],
   "source": [
    "# This line imports the function from our other notebook\n",
    "from data_preprocessing import load_and_prepare_data"
   ]
  },
  {
   "cell_type": "markdown",
   "id": "22a11112",
   "metadata": {},
   "source": [
    "# 2. Load the Data"
   ]
  },
  {
   "cell_type": "code",
   "execution_count": 7,
   "id": "8aff957c",
   "metadata": {},
   "outputs": [
    {
     "name": "stdout",
     "output_type": "stream",
     "text": [
      "--- Data Loaded ---\n",
      "   study_hours_per_day  attendance_percentage  exam_score\n",
      "0                  0.0                   85.0        56.2\n",
      "1                  6.9                   97.3       100.0\n",
      "2                  1.4                   94.8        34.3\n",
      "3                  1.0                   71.0        26.8\n",
      "4                  5.0                   90.9        66.4\n"
     ]
    }
   ],
   "source": [
    "# Use the function we imported to load the data.\n",
    "filepath = '../sample_dataset/student_performance_dataset.csv'\n",
    "data = load_and_prepare_data(filepath)\n",
    "print(\"--- Data Loaded ---\")\n",
    "print(data.head())"
   ]
  },
  {
   "cell_type": "markdown",
   "id": "c455536c",
   "metadata": {},
   "source": [
    "# 3. Define Features (X) and Target (y)"
   ]
  },
  {
   "cell_type": "code",
   "execution_count": 8,
   "id": "8f81b563",
   "metadata": {},
   "outputs": [],
   "source": [
    "# X contains the columns we use for prediction.\n",
    "# y is the column we want to predict.\n",
    "X = data[['study_hours_per_day', 'attendance_percentage']]\n",
    "y = data['exam_score']"
   ]
  },
  {
   "cell_type": "markdown",
   "id": "f4e2efec",
   "metadata": {},
   "source": [
    "# 4. Split Data for Training and Testing"
   ]
  },
  {
   "cell_type": "code",
   "execution_count": 9,
   "id": "220076c9",
   "metadata": {},
   "outputs": [
    {
     "name": "stdout",
     "output_type": "stream",
     "text": [
      "Training set size: 800 samples\n",
      "Testing set size: 200 samples\n"
     ]
    }
   ],
   "source": [
    "# We use 80% of the data for training and 20% for testing.\n",
    "# random_state=42 ensures we get the same split every time we run the code.\n",
    "X_train, X_test, y_train, y_test = train_test_split(\n",
    "    X, y, test_size=0.2, random_state=42\n",
    ")\n",
    "\n",
    "print(f\"Training set size: {X_train.shape[0]} samples\")\n",
    "print(f\"Testing set size: {X_test.shape[0]} samples\")"
   ]
  },
  {
   "cell_type": "markdown",
   "id": "ae0e5e0c",
   "metadata": {},
   "source": [
    "# 5. Train the Linear Regression Model"
   ]
  },
  {
   "cell_type": "code",
   "execution_count": 10,
   "id": "a1c8d4cc",
   "metadata": {},
   "outputs": [
    {
     "name": "stdout",
     "output_type": "stream",
     "text": [
      "--- Model Training Complete ---\n"
     ]
    }
   ],
   "source": [
    "model = LinearRegression()\n",
    "model.fit(X_train, y_train)\n",
    "print(\"--- Model Training Complete ---\")"
   ]
  },
  {
   "cell_type": "markdown",
   "id": "b441518c",
   "metadata": {},
   "source": [
    "# 6. Evaluate the Model"
   ]
  },
  {
   "cell_type": "code",
   "execution_count": 11,
   "id": "a9402719",
   "metadata": {},
   "outputs": [],
   "source": [
    "# Make predictions on the test data (data the model has never seen).\n",
    "y_pred = model.predict(X_test)"
   ]
  },
  {
   "cell_type": "code",
   "execution_count": 12,
   "id": "ccfe48ed",
   "metadata": {},
   "outputs": [],
   "source": [
    "# Calculate performance metrics\n",
    "r2 = r2_score(y_test, y_pred)\n",
    "mae = mean_absolute_error(y_test, y_pred)"
   ]
  },
  {
   "cell_type": "code",
   "execution_count": 13,
   "id": "59bcf7ec",
   "metadata": {},
   "outputs": [
    {
     "name": "stdout",
     "output_type": "stream",
     "text": [
      "\n",
      "--- Model Evaluation Results ---\n",
      "R-squared (R²): 0.6623\n",
      "Mean Absolute Error (MAE): 7.4299\n"
     ]
    }
   ],
   "source": [
    "print(\"\\n--- Model Evaluation Results ---\")\n",
    "print(f\"R-squared (R²): {r2:.4f}\")\n",
    "print(f\"Mean Absolute Error (MAE): {mae:.4f}\")"
   ]
  },
  {
   "cell_type": "markdown",
   "id": "c7b02c1a",
   "metadata": {},
   "source": [
    "# 7. Make a Prediction for a New Student"
   ]
  },
  {
   "cell_type": "code",
   "execution_count": 14,
   "id": "77b04996",
   "metadata": {},
   "outputs": [
    {
     "name": "stderr",
     "output_type": "stream",
     "text": [
      "c:\\Users\\Sahil Kesharwani\\AppData\\Local\\Programs\\Python\\Python313\\Lib\\site-packages\\sklearn\\utils\\validation.py:2749: UserWarning: X does not have valid feature names, but LinearRegression was fitted with feature names\n",
      "  warnings.warn(\n"
     ]
    }
   ],
   "source": [
    "# This is the final step where we use the trained model.\n",
    "# We create a new data point for a student with 4 study hours and 80% attendance.\n",
    "new_student_data = np.array([[4, 80]])\n",
    "predicted_score = model.predict(new_student_data)"
   ]
  },
  {
   "cell_type": "code",
   "execution_count": 15,
   "id": "e35e67b5",
   "metadata": {},
   "outputs": [
    {
     "name": "stdout",
     "output_type": "stream",
     "text": [
      "\n",
      "--- Prediction for a New Student ---\n",
      "Input: 4 study hours/day, 80% attendance\n",
      "Predicted Exam Score: 73.39\n"
     ]
    }
   ],
   "source": [
    "print(\"\\n--- Prediction for a New Student ---\")\n",
    "print(\"Input: 4 study hours/day, 80% attendance\")\n",
    "print(f\"Predicted Exam Score: {predicted_score[0]:.2f}\")"
   ]
  }
 ],
 "metadata": {
  "kernelspec": {
   "display_name": "Python 3",
   "language": "python",
   "name": "python3"
  },
  "language_info": {
   "codemirror_mode": {
    "name": "ipython",
    "version": 3
   },
   "file_extension": ".py",
   "mimetype": "text/x-python",
   "name": "python",
   "nbconvert_exporter": "python",
   "pygments_lexer": "ipython3",
   "version": "3.13.5"
  }
 },
 "nbformat": 4,
 "nbformat_minor": 5
}
